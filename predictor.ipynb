{
 "cells": [
  {
   "cell_type": "code",
   "execution_count": 1,
   "metadata": {},
   "outputs": [],
   "source": [
    "import pandas as pd\n",
    "\n",
    "data = pd.read_csv('strokeData.csv')\n",
    "\n",
    "#check for null \n",
    "#data.isnull().sum()\n"
   ]
  },
  {
   "cell_type": "code",
   "execution_count": 379,
   "metadata": {},
   "outputs": [
    {
     "name": "stderr",
     "output_type": "stream",
     "text": [
      "C:\\Users\\ethan\\AppData\\Local\\Temp\\ipykernel_18048\\1366369829.py:4: FutureWarning: A value is trying to be set on a copy of a DataFrame or Series through chained assignment using an inplace method.\n",
      "The behavior will change in pandas 3.0. This inplace method will never work because the intermediate object on which we are setting values always behaves as a copy.\n",
      "\n",
      "For example, when doing 'df[col].method(value, inplace=True)', try using 'df.method({col: value}, inplace=True)' or df[col] = df[col].method(value) instead, to perform the operation inplace on the original object.\n",
      "\n",
      "\n",
      "  data['bmi'].fillna(data['bmi'].median(), inplace=True)\n"
     ]
    },
    {
     "data": {
      "text/plain": [
       "'\\nas the class imbalance is huge SMOTE is needed to artificially balance it out\\n'"
      ]
     },
     "execution_count": 379,
     "metadata": {},
     "output_type": "execute_result"
    }
   ],
   "source": [
    "\"\"\"fill missing values for bmi using median as more accurate, as mean skewed\n",
    "by extreme data and mode can be skewed by outliers\n",
    "\"\"\"\n",
    "data['bmi'].fillna(data['bmi'].median(), inplace=True)\n",
    "data.head()\n",
    "\n",
    "#count how many stroke and non stroke for class balance\n",
    "strokes = data['stroke'].value_counts()\n",
    "#print(strokes)\n",
    "\n",
    "'''\n",
    "as the class imbalance is huge SMOTE is needed to artificially balance it out\n",
    "'''"
   ]
  },
  {
   "cell_type": "code",
   "execution_count": 380,
   "metadata": {},
   "outputs": [],
   "source": [
    "#drop non essential data that would be used to predict stroke, use new data frame\n",
    "dataFiltered = data.copy()\n",
    "#stroke dropped as we are predicting and id is identifier and no related\n",
    "dataFiltered.drop(['id'],axis=1,inplace=True)\n",
    "'''encode the data as categorical data is not allowed in machine learning\n",
    "hot encoding as no order or hierarchy\n",
    "'''\n",
    "dataFiltered = pd.get_dummies(dataFiltered, columns=['gender','ever_married','work_type','Residence_type','smoking_status'])\n",
    "\n",
    "#correlation test to see what to drop\n",
    "#dataFiltered.corr()\n"
   ]
  },
  {
   "cell_type": "code",
   "execution_count": 381,
   "metadata": {},
   "outputs": [],
   "source": [
    "#target and input data\n",
    "predictors = dataFiltered.drop(columns=['stroke'])\n",
    "target = dataFiltered['stroke']\n",
    "\n",
    "from sklearn.model_selection import train_test_split\n",
    "from sklearn.linear_model  import LinearRegression\n",
    "from imblearn.over_sampling import SMOTE\n",
    "\n",
    "# Apply SMOTE before train-test split\n",
    "smote = SMOTE(random_state=42)\n",
    "X_resampled, y_resampled = smote.fit_resample(predictors, target)\n",
    "\n",
    "\n",
    "#split data into test and train data\n",
    "X_train,X_test,y_train,y_test = train_test_split(,target,test_size=0.3,random_state=42)\n",
    "\n",
    "\n"
   ]
  },
  {
   "cell_type": "code",
   "execution_count": 382,
   "metadata": {},
   "outputs": [
    {
     "name": "stdout",
     "output_type": "stream",
     "text": [
      "Fitting 5 folds for each of 20 candidates, totalling 100 fits\n",
      "{'max_depth': 20, 'n_estimators': 500}\n"
     ]
    }
   ],
   "source": [
    "#using hyper parameters - gridSearchcv for best resutls\n",
    "from sklearn.model_selection import GridSearchCV\n",
    "from sklearn.ensemble import RandomForestClassifier\n",
    "\n",
    "param_grid = {\n",
    "    'n_estimators' : [100,200,300,400,500],\n",
    "    'max_depth': [None,10,20,30],\n",
    "}\n",
    "\n",
    "\n",
    "#fit model using gridsearch\n",
    "#cv = cross validation, spliting data into training and validation sets multiple times in diff ways\n",
    "#verbose - level of feedback\n",
    "grid = GridSearchCV(estimator=rf, param_grid=param_grid,cv=5,scoring='accuracy', n_jobs=-1,verbose=1)\n",
    "\n",
    "grid.fit(X_train_resampled,y_train_resampled)\n",
    "\n",
    "print(grid.best_params_)\n",
    "best_params = grid.best_params_\n"
   ]
  },
  {
   "cell_type": "code",
   "execution_count": 383,
   "metadata": {},
   "outputs": [
    {
     "name": "stdout",
     "output_type": "stream",
     "text": [
      "Best Cross-Validation Accuracy: 0.9735171545132548\n"
     ]
    }
   ],
   "source": [
    "best_score = grid.best_score_\n",
    "print(\"Best Cross-Validation Accuracy:\", best_score)\n",
    "\n"
   ]
  },
  {
   "cell_type": "code",
   "execution_count": 384,
   "metadata": {},
   "outputs": [
    {
     "name": "stdout",
     "output_type": "stream",
     "text": [
      "Confusion Matrix:\n",
      " [[1435    9]\n",
      " [  87    2]]\n"
     ]
    }
   ],
   "source": [
    "#implementing a better forest model using those best parameters\n",
    "optimizedRf = RandomForestClassifier(**best_params,class_weight='balanced',random_state=42)\n",
    "\n",
    "#training model\n",
    "optimizedRf.fit(X_train_resampled,y_train_resampled)\n",
    "\n",
    "#prediciting model\n",
    "y_prediction = optimizedRf.predict(X_test)\n",
    "\n",
    "#using confusion matrix to inprove readability of model evaluation\n",
    "from sklearn.metrics import confusion_matrix, ConfusionMatrixDisplay\n",
    "# Confusion Matrix\n",
    "cm = confusion_matrix(y_test, y_prediction)\n",
    "print(\"Confusion Matrix:\\n\", cm)\n",
    "\n"
   ]
  }
 ],
 "metadata": {
  "kernelspec": {
   "display_name": "Python 3",
   "language": "python",
   "name": "python3"
  },
  "language_info": {
   "codemirror_mode": {
    "name": "ipython",
    "version": 3
   },
   "file_extension": ".py",
   "mimetype": "text/x-python",
   "name": "python",
   "nbconvert_exporter": "python",
   "pygments_lexer": "ipython3",
   "version": "3.12.4"
  }
 },
 "nbformat": 4,
 "nbformat_minor": 2
}
